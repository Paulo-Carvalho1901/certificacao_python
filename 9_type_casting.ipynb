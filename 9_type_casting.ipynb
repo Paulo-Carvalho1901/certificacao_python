{
 "cells": [
  {
   "cell_type": "code",
   "execution_count": 6,
   "metadata": {},
   "outputs": [
    {
     "name": "stdout",
     "output_type": "stream",
     "text": [
      "Your height in feet is:  0.32808398950131235\n"
     ]
    }
   ],
   "source": [
    "height_cm = input('Hight converter: enter your height in cm: ')\n",
    "float_heght_cm = float(height_cm)\n",
    "print('Your height in feet is: ', float_heght_cm / 30.48)"
   ]
  },
  {
   "cell_type": "code",
   "execution_count": 7,
   "metadata": {},
   "outputs": [
    {
     "name": "stdout",
     "output_type": "stream",
     "text": [
      "Your height in feet is:  0.32808398950131235\n"
     ]
    }
   ],
   "source": [
    "height_cm = float(input('Hight converter: enter your height in cm: '))\n",
    "print('Your height in feet is: ', height_cm / 30.48)"
   ]
  },
  {
   "cell_type": "code",
   "execution_count": 9,
   "metadata": {},
   "outputs": [
    {
     "name": "stdout",
     "output_type": "stream",
     "text": [
      "in 2100, you will be 111 years old, provided you live this long\n"
     ]
    }
   ],
   "source": [
    "year_born = int(input('What year were you born'))\n",
    "print('in 2100, you will be', 2100 - year_born, 'years old, provided you live this long')"
   ]
  },
  {
   "cell_type": "code",
   "execution_count": 12,
   "metadata": {},
   "outputs": [
    {
     "name": "stdout",
     "output_type": "stream",
     "text": [
      "35degrees Celsius equals 95.0 degrees Fehrehe\n"
     ]
    }
   ],
   "source": [
    "temp_c = input('Enter the temperature today in Celsius degress:')\n",
    "temp_f = float(temp_c) * 1.8 + 32\n",
    "temp_statement = str(temp_c) + 'degrees Celsius equals ' + str(temp_f) + ' degrees Fehrehe'\n",
    "print(temp_statement)"
   ]
  }
 ],
 "metadata": {
  "kernelspec": {
   "display_name": "Python 3",
   "language": "python",
   "name": "python3"
  },
  "language_info": {
   "codemirror_mode": {
    "name": "ipython",
    "version": 3
   },
   "file_extension": ".py",
   "mimetype": "text/x-python",
   "name": "python",
   "nbconvert_exporter": "python",
   "pygments_lexer": "ipython3",
   "version": "3.12.3"
  }
 },
 "nbformat": 4,
 "nbformat_minor": 2
}
