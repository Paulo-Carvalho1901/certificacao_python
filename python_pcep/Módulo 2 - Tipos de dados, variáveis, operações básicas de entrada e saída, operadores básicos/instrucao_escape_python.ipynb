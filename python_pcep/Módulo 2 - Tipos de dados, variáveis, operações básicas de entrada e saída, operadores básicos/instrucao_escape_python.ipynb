{
 "cells": [
  {
   "cell_type": "markdown",
   "metadata": {},
   "source": [
    "Escape do Python e caracteres de novas linhas"
   ]
  },
  {
   "cell_type": "code",
   "execution_count": 3,
   "metadata": {},
   "outputs": [
    {
     "name": "stdout",
     "output_type": "stream",
     "text": [
      "A aranha pequenininha\n",
      "subiu a tromba d'água.\n",
      "\n",
      "abaixo veio a chuva\n",
      "e lavou a aranha.\n"
     ]
    }
   ],
   "source": [
    "print(\"A aranha pequenininha\\nsubiu a tromba d'água.\")\n",
    "print()\n",
    "print(\"abaixo veio a chuva\\ne lavou a aranha.\")"
   ]
  }
 ],
 "metadata": {
  "kernelspec": {
   "display_name": "Python 3",
   "language": "python",
   "name": "python3"
  },
  "language_info": {
   "codemirror_mode": {
    "name": "ipython",
    "version": 3
   },
   "file_extension": ".py",
   "mimetype": "text/x-python",
   "name": "python",
   "nbconvert_exporter": "python",
   "pygments_lexer": "ipython3",
   "version": "3.13.3"
  }
 },
 "nbformat": 4,
 "nbformat_minor": 2
}
