{
 "cells": [
  {
   "cell_type": "markdown",
   "metadata": {},
   "source": [
    "# O que é Python?\n",
    "\n",
    "Python é uma linguagem de programação amplamente usada, interpretada, orientada a objeto e de alto nível com semântica dinâmica,  \n",
    "usada para programação de uso geral.  \n",
    "\n",
    "E embora você possa conhecer a píton como uma cobra grande, o nome da linguagem de programação Python vem de uma antiga série  \n",
    "de comédia da BBC chamada Monty Python's Flying Circus.  \n"
   ]
  },
  {
   "cell_type": "markdown",
   "metadata": {},
   "source": [
    "# Quem criou Python? \n",
    "\n",
    "Python foi criada por Guido van Rossum, nascida em 1956  \n",
    "em Haarlem, na Holanda. Claro, Guido van Rossum não  \n",
    "desenvolveu e evoluiu todos os componentes do Python...  \n",
    "\n",
    "A velocidade com que o Python se espalhou pelo mundo é  \n",
    "resultado do trabalho contínuo de milhares (muitas vezes  \n",
    "anônimos) programadores, testadores, usuários (muitos deles não  \n",
    "são especialistas em TI) e entusiastas, mas é preciso dizer que os  \n",
    "a primeira ideia (a semente da qual Python brotou) veio à tona - o  \n",
    "de Guido."
   ]
  }
 ],
 "metadata": {
  "language_info": {
   "name": "python"
  }
 },
 "nbformat": 4,
 "nbformat_minor": 2
}
