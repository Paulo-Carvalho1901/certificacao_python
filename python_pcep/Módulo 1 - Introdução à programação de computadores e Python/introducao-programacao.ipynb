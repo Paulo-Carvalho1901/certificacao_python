{
 "cells": [
  {
   "cell_type": "markdown",
   "metadata": {},
   "source": []
  },
  {
   "cell_type": "markdown",
   "metadata": {},
   "source": [
    "# Como funciona um programa de computador?\n",
    "\n",
    "Um programa torna um computador utilizável. Sem um programa,  \n",
    "um computador, mesmo o mais poderoso, não passa de um  \n",
    "objeto. Da mesma forma, sem um jogador, um piano nada mais é  \n",
    "do que uma caixa de madeira.  \n",
    "\n",
    "Ele pode executar apenas operações extremamente simples. Por  \n",
    "exemplo, um computador não consegue entender sozinho o valor  \n",
    "de uma função matemática complicada, embora isso não esteja  \n",
    "além dos limites das possibilidades no futuro próximo.\n",
    "\n",
    "Os computadores contemporâneos só podem avaliar os  \n",
    "resultados de operações muito fundamentais, como adicionar ou  \n",
    "dividir, mas podem fazer isso com muita rapidez e podem repetir  \n",
    "essas ações praticamente várias vezes.  \n",
    "\n",
    "\n"
   ]
  }
 ],
 "metadata": {
  "language_info": {
   "name": "python"
  }
 },
 "nbformat": 4,
 "nbformat_minor": 2
}
