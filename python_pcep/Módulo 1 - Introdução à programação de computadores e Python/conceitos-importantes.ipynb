{
 "cells": [
  {
   "cell_type": "markdown",
   "metadata": {},
   "source": [
    "# O que faz uma linguagem?\n",
    "\n",
    "Podemos dizer que cada linguagem (máquina ou natural, não importa) consiste nos seguintes elementos:\n",
    "\n",
    "# Um alfabeto\n",
    "um conjunto de símbolos usado para criar palavras de um determinado idioma por exemplo, o alfabeto latino para inglês, o  \n",
    "alfabeto cirílico para russo, o kanji para japonês e assim por diante.  \n",
    "\n",
    "# Uma lexis\n",
    "também conhecido como dicionário, um conjunto de palavras que o idioma oferece aos usuários por exemplo, a palavra  \n",
    "\"computador\" vem do dicionário de português, enquanto \"cmoptrue\" não; o termo \"chat\" está presente nos dicionários de  \n",
    "inglês e francês , mas com significados diferentes  \n",
    "\n",
    "# Uma sintaxe\n",
    "um conjunto de regras (formais ou informais, escritas ou intuitivamente) usadas para determinar se uma determinada sequência  \n",
    "de palavras forma uma sentença válida (por exemplo, \"eu sou uma píton\" é uma frase sintaticamente correta, enquanto \"eu uma  \n",
    "píton estou\" não é)\n",
    "\n",
    "# Semântica\n",
    "um conjunto de regras que determina se uma determinada frase faz sentido (por exemplo, \"comi uma rosquinha\" faz sentido,  \n",
    "mas \"uma rosquinha me comeu\" não faz)"
   ]
  },
  {
   "cell_type": "markdown",
   "metadata": {},
   "source": [
    "# Compilação\n",
    "Compilação - o programa de origem é convertido uma  \n",
    "vez (no entanto, esse ato deve ser repetido cada vez  \n",
    "que você modifica o código-fonte) ao obter um arquivo  \n",
    "por exemplo, um arquivo an.exe se o código for  \n",
    "executado no MS Windows contendo a máquina  \n",
    "código. Agora você pode distribuir o arquivo em todo o  \n",
    "mundo; o programa que executa essa conversão é  \n",
    "chamado de compilador ou traduzir "
   ]
  }
 ],
 "metadata": {
  "language_info": {
   "name": "python"
  }
 },
 "nbformat": 4,
 "nbformat_minor": 2
}
